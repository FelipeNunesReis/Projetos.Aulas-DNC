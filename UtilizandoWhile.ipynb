{
  "nbformat": 4,
  "nbformat_minor": 0,
  "metadata": {
    "colab": {
      "provenance": [],
      "authorship_tag": "ABX9TyPAkgD2OiJRlHSVjIboGan4",
      "include_colab_link": true
    },
    "kernelspec": {
      "name": "python3",
      "display_name": "Python 3"
    },
    "language_info": {
      "name": "python"
    }
  },
  "cells": [
    {
      "cell_type": "markdown",
      "metadata": {
        "id": "view-in-github",
        "colab_type": "text"
      },
      "source": [
        "<a href=\"https://colab.research.google.com/github/FelipeNunesReis/Projetos.Aulas-DNC/blob/main/UtilizandoWhile.ipynb\" target=\"_parent\"><img src=\"https://colab.research.google.com/assets/colab-badge.svg\" alt=\"Open In Colab\"/></a>"
      ]
    },
    {
      "cell_type": "markdown",
      "source": [
        "# **Estrutura While**\n",
        "\n",
        "```\n",
        "while True:\n",
        "  print('Execute a ação)\n",
        "```\n",
        "\n",
        "\n",
        "\n",
        "```\n",
        "fim= false\n",
        "while fim == false:\n",
        "  print('Execute a ação')\n",
        "  fim = bool(input('Terminou?'))\n",
        "print('Fim')\n",
        "```\n",
        "\n",
        "\n",
        "\n"
      ],
      "metadata": {
        "id": "kwf2zC347sy2"
      }
    },
    {
      "cell_type": "code",
      "execution_count": 2,
      "metadata": {
        "colab": {
          "base_uri": "https://localhost:8080/"
        },
        "id": "o4uLc0zU65OG",
        "outputId": "d2cd8404-95e7-4a5c-abd6-46fb5e466517"
      },
      "outputs": [
        {
          "output_type": "stream",
          "name": "stdout",
          "text": [
            "Leia a página\n",
            "Terminou o capitulo? (s/n): n\n",
            "Terminou o capitulo? (s/n): n\n",
            "Leia a página\n",
            "Leia a página\n",
            "Terminou o capitulo? (s/n): s\n",
            "FIM\n"
          ]
        }
      ],
      "source": [
        "fim = 'n'\n",
        "\n",
        "while fim== 'n':\n",
        "  print(\"Leia a página\")\n",
        "  fim = input(\"Terminou o capitulo? (s/n): \")\n",
        "print(\"FIM\")"
      ]
    },
    {
      "cell_type": "code",
      "source": [
        "soma = 1\n",
        "i= 1\n",
        "\n",
        "while i <10:\n",
        "  i += 1\n",
        "  soma +=1\n",
        "  print(soma)"
      ],
      "metadata": {
        "colab": {
          "base_uri": "https://localhost:8080/"
        },
        "id": "kKF8G0BZFEN7",
        "outputId": "d9803b74-d651-47bf-d663-da04b86b8c92"
      },
      "execution_count": 3,
      "outputs": [
        {
          "output_type": "stream",
          "name": "stdout",
          "text": [
            "2\n",
            "3\n",
            "4\n",
            "5\n",
            "6\n",
            "7\n",
            "8\n",
            "9\n",
            "10\n"
          ]
        }
      ]
    },
    {
      "cell_type": "markdown",
      "source": [
        "# **Exercício 1**\n",
        "\n",
        "Some números digitados pelos usuários até a soma deles ultrapassar 20\n",
        "\n"
      ],
      "metadata": {
        "id": "7CScH5ovF-QS"
      }
    },
    {
      "cell_type": "code",
      "source": [
        "soma = 0\n",
        "while soma < 20:\n",
        "  n= int(input('Digite o número: '))\n",
        "  soma += n\n",
        "print(soma)"
      ],
      "metadata": {
        "colab": {
          "base_uri": "https://localhost:8080/"
        },
        "id": "wVUNGzCcF1H9",
        "outputId": "a0188d5d-0f16-404e-c410-3c092fba2889"
      },
      "execution_count": 4,
      "outputs": [
        {
          "output_type": "stream",
          "name": "stdout",
          "text": [
            "Digite o número: 10\n",
            "Digite o número: 20\n",
            "30\n"
          ]
        }
      ]
    },
    {
      "cell_type": "markdown",
      "source": [
        "# **BREAK**\n",
        "\n",
        "Comando utilizado para sair de um looping em qualquer momento."
      ],
      "metadata": {
        "id": "um51k_xEGrHC"
      }
    },
    {
      "cell_type": "code",
      "source": [
        "soma = 0\n",
        "\n",
        "while True:\n",
        "  n= float(input('Digite um valor: '))\n",
        "  soma += n\n",
        "print(soma)"
      ],
      "metadata": {
        "colab": {
          "base_uri": "https://localhost:8080/",
          "height": 488
        },
        "id": "BUxltpOIGvKC",
        "outputId": "6e3ff4a8-84fb-4a9b-d9fb-532851188899"
      },
      "execution_count": 6,
      "outputs": [
        {
          "name": "stdout",
          "output_type": "stream",
          "text": [
            "Digite um valor: 1\n",
            "Digite um valor: 2\n",
            "Digite um valor: 3\n",
            "Digite um valor: 4\n",
            "Digite um valor: 5\n",
            "Digite um valor: 6\n",
            "Digite um valor: 4\n",
            "Digite um valor: 8\n",
            "Digite um valor: 54\n",
            "Digite um valor: 25\n",
            "Digite um valor: 1\n",
            "Digite um valor: 25\n",
            "Digite um valor: 6\n",
            "Digite um valor: 65\n",
            "Digite um valor: 56\n",
            "Digite um valor: 10,\n"
          ]
        },
        {
          "output_type": "error",
          "ename": "ValueError",
          "evalue": "could not convert string to float: '10,'",
          "traceback": [
            "\u001b[0;31m---------------------------------------------------------------------------\u001b[0m",
            "\u001b[0;31mValueError\u001b[0m                                Traceback (most recent call last)",
            "\u001b[0;32m<ipython-input-6-62d40203a838>\u001b[0m in \u001b[0;36m<cell line: 3>\u001b[0;34m()\u001b[0m\n\u001b[1;32m      2\u001b[0m \u001b[0;34m\u001b[0m\u001b[0m\n\u001b[1;32m      3\u001b[0m \u001b[0;32mwhile\u001b[0m \u001b[0;32mTrue\u001b[0m\u001b[0;34m:\u001b[0m\u001b[0;34m\u001b[0m\u001b[0;34m\u001b[0m\u001b[0m\n\u001b[0;32m----> 4\u001b[0;31m   \u001b[0mn\u001b[0m\u001b[0;34m=\u001b[0m \u001b[0mfloat\u001b[0m\u001b[0;34m(\u001b[0m\u001b[0minput\u001b[0m\u001b[0;34m(\u001b[0m\u001b[0;34m'Digite um valor: '\u001b[0m\u001b[0;34m)\u001b[0m\u001b[0;34m)\u001b[0m\u001b[0;34m\u001b[0m\u001b[0;34m\u001b[0m\u001b[0m\n\u001b[0m\u001b[1;32m      5\u001b[0m   \u001b[0msoma\u001b[0m \u001b[0;34m+=\u001b[0m \u001b[0mn\u001b[0m\u001b[0;34m\u001b[0m\u001b[0;34m\u001b[0m\u001b[0m\n\u001b[1;32m      6\u001b[0m \u001b[0mprint\u001b[0m\u001b[0;34m(\u001b[0m\u001b[0msoma\u001b[0m\u001b[0;34m)\u001b[0m\u001b[0;34m\u001b[0m\u001b[0;34m\u001b[0m\u001b[0m\n",
            "\u001b[0;31mValueError\u001b[0m: could not convert string to float: '10,'"
          ]
        }
      ]
    },
    {
      "cell_type": "code",
      "source": [
        "soma = 0\n",
        "\n",
        "while True:\n",
        "  n= int(input('Digite um valor: '))\n",
        "  soma += n\n",
        "  continua = input( \"Você quer continuar ? (s/n)\")\n",
        "  if continua == 'n':\n",
        "    break\n",
        "print(soma)"
      ],
      "metadata": {
        "colab": {
          "base_uri": "https://localhost:8080/"
        },
        "id": "aOVdxEz8HMIK",
        "outputId": "bef94753-4dee-4d2f-c917-6d36031d3d7e"
      },
      "execution_count": 8,
      "outputs": [
        {
          "output_type": "stream",
          "name": "stdout",
          "text": [
            "Digite um valor: 10\n",
            "Você quer continuar ? (s/n)s\n",
            "Digite um valor: 30\n",
            "Você quer continuar ? (s/n)n\n",
            "40\n"
          ]
        }
      ]
    },
    {
      "cell_type": "markdown",
      "source": [
        "# **Exercício 1**\n",
        "Peça para o usuário dogitar um número. Valide o que ele digitou, caso não seja número, peça para digitar novamente."
      ],
      "metadata": {
        "id": "uGvRGqpIIZNa"
      }
    },
    {
      "cell_type": "code",
      "source": [],
      "metadata": {
        "id": "wdVXtaguHuNl"
      },
      "execution_count": null,
      "outputs": []
    }
  ]
}