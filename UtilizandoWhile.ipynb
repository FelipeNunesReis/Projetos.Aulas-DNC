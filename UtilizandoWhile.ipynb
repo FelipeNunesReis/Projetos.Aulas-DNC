{
  "nbformat": 4,
  "nbformat_minor": 0,
  "metadata": {
    "colab": {
      "provenance": [],
      "authorship_tag": "ABX9TyObLf5fY/zbZBOrAyKizYMl",
      "include_colab_link": true
    },
    "kernelspec": {
      "name": "python3",
      "display_name": "Python 3"
    },
    "language_info": {
      "name": "python"
    }
  },
  "cells": [
    {
      "cell_type": "markdown",
      "metadata": {
        "id": "view-in-github",
        "colab_type": "text"
      },
      "source": [
        "<a href=\"https://colab.research.google.com/github/FelipeNunesReis/Projetos.Aulas-DNC/blob/main/UtilizandoWhile.ipynb\" target=\"_parent\"><img src=\"https://colab.research.google.com/assets/colab-badge.svg\" alt=\"Open In Colab\"/></a>"
      ]
    },
    {
      "cell_type": "markdown",
      "source": [
        "# **Estrutura While**\n",
        "\n",
        "```\n",
        "while True:\n",
        "  print('Execute a ação)\n",
        "```\n",
        "\n",
        "\n",
        "\n",
        "```\n",
        "fim= false\n",
        "while fim == false:\n",
        "  print('Execute a ação')\n",
        "  fim = bool(input('Terminou?'))\n",
        "print('Fim')\n",
        "```\n",
        "\n",
        "\n",
        "\n"
      ],
      "metadata": {
        "id": "kwf2zC347sy2"
      }
    },
    {
      "cell_type": "code",
      "execution_count": 1,
      "metadata": {
        "colab": {
          "base_uri": "https://localhost:8080/"
        },
        "id": "o4uLc0zU65OG",
        "outputId": "a59d672d-fbf2-4080-d441-1542857a4ba2"
      },
      "outputs": [
        {
          "output_type": "stream",
          "name": "stdout",
          "text": [
            "Leia a página\n",
            "Terminou o capitulo? (s/n): n\n",
            "Leia a página\n",
            "Terminou o capitulo? (s/n): s\n",
            "FIM\n"
          ]
        }
      ],
      "source": [
        "fim = 'n'\n",
        "\n",
        "while fim== 'n':\n",
        "  print(\"Leia a página\")\n",
        "  fim = input(\"Terminou o capitulo? (s/n): \")\n",
        "print(\"FIM\")"
      ]
    },
    {
      "cell_type": "code",
      "source": [
        "soma = 1\n",
        "i= 1\n",
        "\n",
        "while i <10:\n",
        "  i += 1\n",
        "  soma +=1\n",
        "  print(soma)"
      ],
      "metadata": {
        "colab": {
          "base_uri": "https://localhost:8080/"
        },
        "id": "kKF8G0BZFEN7",
        "outputId": "958f7461-d4eb-4559-ace2-69c7f5c1a0db"
      },
      "execution_count": 2,
      "outputs": [
        {
          "output_type": "stream",
          "name": "stdout",
          "text": [
            "2\n",
            "3\n",
            "4\n",
            "5\n",
            "6\n",
            "7\n",
            "8\n",
            "9\n",
            "10\n"
          ]
        }
      ]
    },
    {
      "cell_type": "markdown",
      "source": [
        "# **Exercício 1**\n",
        "\n",
        "Some números digitados pelos usuários até a soma deles ultrapassar 20\n",
        "\n"
      ],
      "metadata": {
        "id": "7CScH5ovF-QS"
      }
    },
    {
      "cell_type": "code",
      "source": [
        "soma = 0\n",
        "while soma < 20:\n",
        "  n= int(input('Digite o número: '))\n",
        "  soma += n\n",
        "print(soma)"
      ],
      "metadata": {
        "colab": {
          "base_uri": "https://localhost:8080/"
        },
        "id": "wVUNGzCcF1H9",
        "outputId": "8fa70c42-21d6-4ebf-ccb1-1132a6eb9df5"
      },
      "execution_count": 3,
      "outputs": [
        {
          "output_type": "stream",
          "name": "stdout",
          "text": [
            "Digite o número: 10\n",
            "Digite o número: 20\n",
            "30\n"
          ]
        }
      ]
    },
    {
      "cell_type": "markdown",
      "source": [
        "# **BREAK**\n",
        "\n",
        "Comando utilizado para sair de um looping em qualquer momento."
      ],
      "metadata": {
        "id": "um51k_xEGrHC"
      }
    },
    {
      "cell_type": "code",
      "source": [
        "soma = 0\n",
        "\n",
        "while True:\n",
        "  n= float(input('Digite um valor: '))\n",
        "  soma += n\n",
        "print(soma)"
      ],
      "metadata": {
        "colab": {
          "base_uri": "https://localhost:8080/",
          "height": 349
        },
        "id": "BUxltpOIGvKC",
        "outputId": "078b349a-a0ee-403d-8022-29527e9c8904"
      },
      "execution_count": 4,
      "outputs": [
        {
          "name": "stdout",
          "output_type": "stream",
          "text": [
            "Digite um valor: 10\n",
            "Digite um valor: 20\n",
            "Digite um valor: 30\n",
            "Digite um valor: 45\n",
            "Digite um valor: 20\n",
            "Digite um valor: 15\n",
            "Digite um valor: 0\n",
            "Digite um valor: 1,56\n"
          ]
        },
        {
          "output_type": "error",
          "ename": "ValueError",
          "evalue": "could not convert string to float: '1,56'",
          "traceback": [
            "\u001b[0;31m---------------------------------------------------------------------------\u001b[0m",
            "\u001b[0;31mValueError\u001b[0m                                Traceback (most recent call last)",
            "\u001b[0;32m<ipython-input-4-c6d3e852a6c8>\u001b[0m in \u001b[0;36m<cell line: 3>\u001b[0;34m()\u001b[0m\n\u001b[1;32m      2\u001b[0m \u001b[0;34m\u001b[0m\u001b[0m\n\u001b[1;32m      3\u001b[0m \u001b[0;32mwhile\u001b[0m \u001b[0;32mTrue\u001b[0m\u001b[0;34m:\u001b[0m\u001b[0;34m\u001b[0m\u001b[0;34m\u001b[0m\u001b[0m\n\u001b[0;32m----> 4\u001b[0;31m   \u001b[0mn\u001b[0m\u001b[0;34m=\u001b[0m \u001b[0mfloat\u001b[0m\u001b[0;34m(\u001b[0m\u001b[0minput\u001b[0m\u001b[0;34m(\u001b[0m\u001b[0;34m'Digite um valor: '\u001b[0m\u001b[0;34m)\u001b[0m\u001b[0;34m)\u001b[0m\u001b[0;34m\u001b[0m\u001b[0;34m\u001b[0m\u001b[0m\n\u001b[0m\u001b[1;32m      5\u001b[0m   \u001b[0msoma\u001b[0m \u001b[0;34m+=\u001b[0m \u001b[0mn\u001b[0m\u001b[0;34m\u001b[0m\u001b[0;34m\u001b[0m\u001b[0m\n\u001b[1;32m      6\u001b[0m \u001b[0mprint\u001b[0m\u001b[0;34m(\u001b[0m\u001b[0msoma\u001b[0m\u001b[0;34m)\u001b[0m\u001b[0;34m\u001b[0m\u001b[0;34m\u001b[0m\u001b[0m\n",
            "\u001b[0;31mValueError\u001b[0m: could not convert string to float: '1,56'"
          ]
        }
      ]
    },
    {
      "cell_type": "code",
      "source": [
        "soma = 0\n",
        "\n",
        "while True:\n",
        "  n= int(input('Digite um valor: '))\n",
        "  soma += n\n",
        "  continua = input( \"Você quer continuar ? (s/n)\")\n",
        "  if continua == 'n':\n",
        "    break\n",
        "print(soma)"
      ],
      "metadata": {
        "colab": {
          "base_uri": "https://localhost:8080/"
        },
        "id": "aOVdxEz8HMIK",
        "outputId": "a6b90339-3d4e-4ebb-aed1-20e6c5b70979"
      },
      "execution_count": 5,
      "outputs": [
        {
          "output_type": "stream",
          "name": "stdout",
          "text": [
            "Digite um valor: 10\n",
            "Você quer continuar ? (s/n)n\n",
            "10\n"
          ]
        }
      ]
    },
    {
      "cell_type": "markdown",
      "source": [
        "# **Exercício 1**\n",
        "Peça para o usuário digitar um número. Valide o que ele digitou, caso não seja número, peça para digitar novamente."
      ],
      "metadata": {
        "id": "uGvRGqpIIZNa"
      }
    },
    {
      "cell_type": "code",
      "source": [
        "while True:\n",
        "  num = input(\"Digite um número: \")\n",
        "  if num.isnumeric() == True:\n",
        "    print('Você digitou um número válido')\n",
        "    break\n",
        "  print('Você não digitou um número válido')\n",
        "print('Fim')"
      ],
      "metadata": {
        "colab": {
          "base_uri": "https://localhost:8080/"
        },
        "id": "wdVXtaguHuNl",
        "outputId": "c7e1cdbe-5c69-4e98-89ab-148c742dd7e0"
      },
      "execution_count": 6,
      "outputs": [
        {
          "output_type": "stream",
          "name": "stdout",
          "text": [
            "Digite um número: 10\n",
            "Você digitou um número válido\n",
            "Fim\n"
          ]
        }
      ]
    },
    {
      "cell_type": "markdown",
      "source": [
        "# **Exercício 2**\n",
        "Faça um programa que calcula a média de valores digitados pelo usuário até o usuário pedir para parar de inserir números"
      ],
      "metadata": {
        "id": "0xMvy3_-JvRO"
      }
    },
    {
      "cell_type": "code",
      "source": [
        "soma = 0\n",
        "i= 0\n",
        "\n",
        "while True:\n",
        "  i +=1\n",
        "  num = float(input('Digite um número: '))\n",
        "  soma += num\n",
        "  continua = input('Você quer continuar? (s/n)')\n",
        "  if continua == 'n':\n",
        "    break\n",
        "media = soma /i\n",
        "print('Você digitou {} números, e a média é de {}'. format(i,media))"
      ],
      "metadata": {
        "colab": {
          "base_uri": "https://localhost:8080/"
        },
        "id": "RwMvHk2cJiyx",
        "outputId": "f6406fd3-c428-407d-9150-0ce74896eeea"
      },
      "execution_count": 7,
      "outputs": [
        {
          "output_type": "stream",
          "name": "stdout",
          "text": [
            "Digite um número: 10\n",
            "Você quer continuar? (s/n)s\n",
            "Digite um número: 10\n",
            "Você quer continuar? (s/n)n\n",
            "Você digitou 2 números, e a média é de 10.0\n"
          ]
        }
      ]
    },
    {
      "cell_type": "markdown",
      "source": [
        "# **Exercício 3**\n",
        "Faça um programa que calcula a tabuada do número digitado pelo usuário."
      ],
      "metadata": {
        "id": "-IiCoEWMK-la"
      }
    },
    {
      "cell_type": "code",
      "source": [
        "num = int(input('Digite um número: '))\n",
        "\n",
        "for i in range(1, 10+1):\n",
        "  resultado = num * i\n",
        "  print(f'{num} x {i} = {resultado}')"
      ],
      "metadata": {
        "id": "BR2zyflvKuga",
        "colab": {
          "base_uri": "https://localhost:8080/"
        },
        "outputId": "26a68e8a-b342-4da8-8cc9-674ad7db1063"
      },
      "execution_count": 20,
      "outputs": [
        {
          "output_type": "stream",
          "name": "stdout",
          "text": [
            "Digite um número: 1\n",
            "1 x 1 = 1\n",
            "1 x 2 = 2\n",
            "1 x 3 = 3\n",
            "1 x 4 = 4\n",
            "1 x 5 = 5\n",
            "1 x 6 = 6\n",
            "1 x 7 = 7\n",
            "1 x 8 = 8\n",
            "1 x 9 = 9\n",
            "1 x 10 = 10\n"
          ]
        }
      ]
    },
    {
      "cell_type": "markdown",
      "source": [
        "# **Exercício 4**\n",
        "Faça um programa que o usuário irá digitar 10 números e você irá mostrar:\n",
        "\n",
        "\n",
        "*   Qual foi o menor valor?\n",
        "*   Qual foi o maior valor?\n",
        "*   Qual a média dos valores?\n",
        "\n"
      ],
      "metadata": {
        "id": "n0Z_twm1LOhj"
      }
    },
    {
      "cell_type": "code",
      "source": [],
      "metadata": {
        "id": "EINA_ua1Lksu"
      },
      "execution_count": 7,
      "outputs": []
    },
    {
      "cell_type": "markdown",
      "source": [
        "# **Exercício 5**\n",
        "\n",
        "Faça um programa que calcula a Sequência de Fibonacci de N números, onde N é dado pelo usuário.\n",
        "\n",
        "Essa sequência é construída começando com os números 0 e 1. O próximo número da sequência é sempre a soma dos 2 anteriores.\n",
        "\n",
        "Sequência: 0 - 1 - 1 - 2 - 3 - 5 - 8 - 13 - 21 - ..."
      ],
      "metadata": {
        "id": "m41w9P3KMqJ-"
      }
    },
    {
      "cell_type": "code",
      "source": [],
      "metadata": {
        "id": "A78kjcaeMv_H"
      },
      "execution_count": 7,
      "outputs": []
    }
  ]
}