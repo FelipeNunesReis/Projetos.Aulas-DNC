{
  "nbformat": 4,
  "nbformat_minor": 0,
  "metadata": {
    "colab": {
      "provenance": [],
      "authorship_tag": "ABX9TyMJVq2EngM4eALfB7UceWm8",
      "include_colab_link": true
    },
    "kernelspec": {
      "name": "python3",
      "display_name": "Python 3"
    },
    "language_info": {
      "name": "python"
    }
  },
  "cells": [
    {
      "cell_type": "markdown",
      "metadata": {
        "id": "view-in-github",
        "colab_type": "text"
      },
      "source": [
        "<a href=\"https://colab.research.google.com/github/FelipeNunesReis/Projetos.Aulas-DNC/blob/main/utilizandofor.ipynb\" target=\"_parent\"><img src=\"https://colab.research.google.com/assets/colab-badge.svg\" alt=\"Open In Colab\"/></a>"
      ]
    },
    {
      "cell_type": "markdown",
      "source": [
        "# **Imprimindo \"Olá\" 5 vezes**"
      ],
      "metadata": {
        "id": "EyCm5UMEp9M2"
      }
    },
    {
      "cell_type": "code",
      "execution_count": 2,
      "metadata": {
        "colab": {
          "base_uri": "https://localhost:8080/"
        },
        "id": "SviUaxxYpc1v",
        "outputId": "04fee43d-1800-4943-f829-7a5683e33ab8"
      },
      "outputs": [
        {
          "output_type": "stream",
          "name": "stdout",
          "text": [
            "Olá\n",
            "Olá\n",
            "Olá\n",
            "Olá\n"
          ]
        }
      ],
      "source": [
        "#definindo passo\n",
        "passo= range(1,5)\n",
        "\n",
        "#usando for\n",
        "for i in passo:\n",
        "  print('Olá')"
      ]
    },
    {
      "cell_type": "code",
      "source": [
        "passo= range(1, 5+1)\n",
        "for i in passo:\n",
        "  print('i= {} - Olá'.format(i))"
      ],
      "metadata": {
        "colab": {
          "base_uri": "https://localhost:8080/"
        },
        "id": "zb3njIEcqoDM",
        "outputId": "6c161c25-729e-41b2-ef64-1c1e85bafbf1"
      },
      "execution_count": 4,
      "outputs": [
        {
          "output_type": "stream",
          "name": "stdout",
          "text": [
            "i= 1 - Olá\n",
            "i= 2 - Olá\n",
            "i= 3 - Olá\n",
            "i= 4 - Olá\n",
            "i= 5 - Olá\n"
          ]
        }
      ]
    },
    {
      "cell_type": "code",
      "source": [
        "passo= range(1,20+1)\n",
        "\n",
        "for i in passo:\n",
        "  print('Leia a página: {}'.format(i))\n",
        "print('Fim da Leitura')"
      ],
      "metadata": {
        "colab": {
          "base_uri": "https://localhost:8080/"
        },
        "id": "cydKkuYerDTL",
        "outputId": "3a0205dc-f2d7-4162-f57d-5b35c63093e5"
      },
      "execution_count": 5,
      "outputs": [
        {
          "output_type": "stream",
          "name": "stdout",
          "text": [
            "Leia a página: 1\n",
            "Leia a página: 2\n",
            "Leia a página: 3\n",
            "Leia a página: 4\n",
            "Leia a página: 5\n",
            "Leia a página: 6\n",
            "Leia a página: 7\n",
            "Leia a página: 8\n",
            "Leia a página: 9\n",
            "Leia a página: 10\n",
            "Leia a página: 11\n",
            "Leia a página: 12\n",
            "Leia a página: 13\n",
            "Leia a página: 14\n",
            "Leia a página: 15\n",
            "Leia a página: 16\n",
            "Leia a página: 17\n",
            "Leia a página: 18\n",
            "Leia a página: 19\n",
            "Leia a página: 20\n",
            "Fim da Leitura\n"
          ]
        }
      ]
    },
    {
      "cell_type": "code",
      "source": [
        "passo= range(1,5+1)\n",
        "\n",
        "soma = 0\n",
        "for i in passo:\n",
        "  n= float(input('digite um valor: '))\n",
        "  soma = soma + n\n",
        "print('A soma total é de {}'. format(soma))"
      ],
      "metadata": {
        "colab": {
          "base_uri": "https://localhost:8080/"
        },
        "id": "Zy8rVDC7rt05",
        "outputId": "be7e43fa-b68b-4ff4-d2e1-88fb9f9b1e9f"
      },
      "execution_count": 10,
      "outputs": [
        {
          "output_type": "stream",
          "name": "stdout",
          "text": [
            "digite um valor: 10.25\n",
            "digite um valor: 10.894\n",
            "digite um valor: 152.85\n",
            "digite um valor: 0.548\n",
            "digite um valor: 15.025\n",
            "A soma total é de 189.567\n"
          ]
        }
      ]
    },
    {
      "cell_type": "markdown",
      "source": [
        "# **Estrutura do passo**\n",
        "\n",
        "range(inicio, fim, passo)\n",
        "\n",
        "\n",
        "*   inicio: número inicial do range\n",
        "*   fim: número final do range\n",
        "*   passo: de quanto em quanto o valor será incrementado\n",
        "\n"
      ],
      "metadata": {
        "id": "7JZGC9GYtaJt"
      }
    },
    {
      "cell_type": "code",
      "source": [
        "passo= range(0,10,2)\n",
        "\n",
        "for i in passo:\n",
        "  print(i)\n",
        "print('Fim')"
      ],
      "metadata": {
        "colab": {
          "base_uri": "https://localhost:8080/"
        },
        "id": "E7WNFc9BtgGL",
        "outputId": "f3fc96e1-4992-4aae-f4c9-8212e7f29879"
      },
      "execution_count": 13,
      "outputs": [
        {
          "output_type": "stream",
          "name": "stdout",
          "text": [
            "0\n",
            "2\n",
            "4\n",
            "6\n",
            "8\n",
            "Fim\n"
          ]
        }
      ]
    },
    {
      "cell_type": "code",
      "source": [],
      "metadata": {
        "id": "siDa1gsmuIEP"
      },
      "execution_count": null,
      "outputs": []
    }
  ]
}