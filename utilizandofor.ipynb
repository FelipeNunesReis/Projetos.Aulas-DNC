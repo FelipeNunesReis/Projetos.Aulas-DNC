{
  "nbformat": 4,
  "nbformat_minor": 0,
  "metadata": {
    "colab": {
      "provenance": [],
      "authorship_tag": "ABX9TyNSCm2ZcO060fmz3IEnUb/s",
      "include_colab_link": true
    },
    "kernelspec": {
      "name": "python3",
      "display_name": "Python 3"
    },
    "language_info": {
      "name": "python"
    }
  },
  "cells": [
    {
      "cell_type": "markdown",
      "metadata": {
        "id": "view-in-github",
        "colab_type": "text"
      },
      "source": [
        "<a href=\"https://colab.research.google.com/github/FelipeNunesReis/Projetos.Aulas-DNC/blob/main/utilizandofor.ipynb\" target=\"_parent\"><img src=\"https://colab.research.google.com/assets/colab-badge.svg\" alt=\"Open In Colab\"/></a>"
      ]
    },
    {
      "cell_type": "markdown",
      "source": [
        "# **Imprimindo \"Olá\" 5 vezes**"
      ],
      "metadata": {
        "id": "EyCm5UMEp9M2"
      }
    },
    {
      "cell_type": "code",
      "execution_count": 2,
      "metadata": {
        "colab": {
          "base_uri": "https://localhost:8080/"
        },
        "id": "SviUaxxYpc1v",
        "outputId": "04fee43d-1800-4943-f829-7a5683e33ab8"
      },
      "outputs": [
        {
          "output_type": "stream",
          "name": "stdout",
          "text": [
            "Olá\n",
            "Olá\n",
            "Olá\n",
            "Olá\n"
          ]
        }
      ],
      "source": [
        "#definindo passo\n",
        "passo= range(1,5)\n",
        "\n",
        "#usando for\n",
        "for i in passo:\n",
        "  print('Olá')"
      ]
    },
    {
      "cell_type": "code",
      "source": [
        "passo= range(1, 5+1)\n",
        "for i in passo:\n",
        "  print('i= {} - Olá'.format(i))"
      ],
      "metadata": {
        "colab": {
          "base_uri": "https://localhost:8080/"
        },
        "id": "zb3njIEcqoDM",
        "outputId": "6c161c25-729e-41b2-ef64-1c1e85bafbf1"
      },
      "execution_count": 4,
      "outputs": [
        {
          "output_type": "stream",
          "name": "stdout",
          "text": [
            "i= 1 - Olá\n",
            "i= 2 - Olá\n",
            "i= 3 - Olá\n",
            "i= 4 - Olá\n",
            "i= 5 - Olá\n"
          ]
        }
      ]
    },
    {
      "cell_type": "code",
      "source": [
        "passo= range(1,20+1)\n",
        "\n",
        "for i in passo:\n",
        "  print('Leia a página: {}'.format(i))\n",
        "print('Fim da Leitura')"
      ],
      "metadata": {
        "colab": {
          "base_uri": "https://localhost:8080/"
        },
        "id": "cydKkuYerDTL",
        "outputId": "3a0205dc-f2d7-4162-f57d-5b35c63093e5"
      },
      "execution_count": 5,
      "outputs": [
        {
          "output_type": "stream",
          "name": "stdout",
          "text": [
            "Leia a página: 1\n",
            "Leia a página: 2\n",
            "Leia a página: 3\n",
            "Leia a página: 4\n",
            "Leia a página: 5\n",
            "Leia a página: 6\n",
            "Leia a página: 7\n",
            "Leia a página: 8\n",
            "Leia a página: 9\n",
            "Leia a página: 10\n",
            "Leia a página: 11\n",
            "Leia a página: 12\n",
            "Leia a página: 13\n",
            "Leia a página: 14\n",
            "Leia a página: 15\n",
            "Leia a página: 16\n",
            "Leia a página: 17\n",
            "Leia a página: 18\n",
            "Leia a página: 19\n",
            "Leia a página: 20\n",
            "Fim da Leitura\n"
          ]
        }
      ]
    },
    {
      "cell_type": "code",
      "source": [
        "passo= range(1,5+1)\n",
        "\n",
        "soma = 0\n",
        "for i in passo:\n",
        "  n= float(input('digite um valor: '))\n",
        "  soma = soma + n\n",
        "print('A soma total é de {}'. format(soma))"
      ],
      "metadata": {
        "colab": {
          "base_uri": "https://localhost:8080/"
        },
        "id": "Zy8rVDC7rt05",
        "outputId": "be7e43fa-b68b-4ff4-d2e1-88fb9f9b1e9f"
      },
      "execution_count": 10,
      "outputs": [
        {
          "output_type": "stream",
          "name": "stdout",
          "text": [
            "digite um valor: 10.25\n",
            "digite um valor: 10.894\n",
            "digite um valor: 152.85\n",
            "digite um valor: 0.548\n",
            "digite um valor: 15.025\n",
            "A soma total é de 189.567\n"
          ]
        }
      ]
    },
    {
      "cell_type": "markdown",
      "source": [
        "# **Estrutura do passo**\n",
        "\n",
        "range(inicio, fim, passo)\n",
        "\n",
        "\n",
        "*   inicio: número inicial do range\n",
        "*   fim: número final do range\n",
        "*   passo: de quanto em quanto o valor será incrementado\n",
        "\n"
      ],
      "metadata": {
        "id": "7JZGC9GYtaJt"
      }
    },
    {
      "cell_type": "code",
      "source": [
        "passo= range(0,10,2)\n",
        "\n",
        "for i in passo:\n",
        "  print(i)\n",
        "print('Fim')"
      ],
      "metadata": {
        "colab": {
          "base_uri": "https://localhost:8080/"
        },
        "id": "E7WNFc9BtgGL",
        "outputId": "f3fc96e1-4992-4aae-f4c9-8212e7f29879"
      },
      "execution_count": 13,
      "outputs": [
        {
          "output_type": "stream",
          "name": "stdout",
          "text": [
            "0\n",
            "2\n",
            "4\n",
            "6\n",
            "8\n",
            "Fim\n"
          ]
        }
      ]
    },
    {
      "cell_type": "code",
      "source": [
        "passo= range(10,1-1,-1)\n",
        "\n",
        "for i in passo:\n",
        "  print(i)\n",
        "print('Fim')"
      ],
      "metadata": {
        "colab": {
          "base_uri": "https://localhost:8080/"
        },
        "id": "siDa1gsmuIEP",
        "outputId": "4aa068d5-d95c-408e-9c00-5b83905b49e7"
      },
      "execution_count": 15,
      "outputs": [
        {
          "output_type": "stream",
          "name": "stdout",
          "text": [
            "10\n",
            "9\n",
            "8\n",
            "7\n",
            "6\n",
            "5\n",
            "4\n",
            "3\n",
            "2\n",
            "1\n",
            "Fim\n"
          ]
        }
      ]
    },
    {
      "cell_type": "code",
      "source": [
        "passo= range(1, 9+1, 2)\n",
        "\n",
        "soma = 0\n",
        "for i in passo:\n",
        "  soma = soma + i\n",
        "  print('i= {}, soma = {}'.format(i, soma))\n",
        "print(soma)"
      ],
      "metadata": {
        "colab": {
          "base_uri": "https://localhost:8080/"
        },
        "id": "wsFAFl2KyCAt",
        "outputId": "e8ba4105-bab4-4f94-81e4-ad66a8e3fe79"
      },
      "execution_count": 17,
      "outputs": [
        {
          "output_type": "stream",
          "name": "stdout",
          "text": [
            "i= 1, soma = 1\n",
            "i= 3, soma = 4\n",
            "i= 5, soma = 9\n",
            "i= 7, soma = 16\n",
            "i= 9, soma = 25\n",
            "25\n"
          ]
        }
      ]
    },
    {
      "cell_type": "markdown",
      "source": [
        "# **Estrutura de cálculos incrementais**\n",
        "  \n",
        "\n",
        "*   soma = soma +1 -> soma += 1\n",
        "*   soma = soma +5 -> soma += 5\n",
        "*   soma = soma -1 -> soma -= 1\n",
        "*   soma = soma -5 -> soma -= 5\n",
        "*   soma = soma *2 -> soma *= 2\n",
        "\n",
        "# **Resumo**\n",
        "anterior += incremento\n",
        "\n",
        "anterior -= incremento\n",
        "\n",
        "anterior *= incremento\n",
        "\n",
        "anterior /= incremento\n"
      ],
      "metadata": {
        "id": "2tUOWr80ywm1"
      }
    },
    {
      "cell_type": "code",
      "source": [
        "soma = 1\n",
        "passo= range(1, 10+1)\n",
        "\n",
        "for i in passo:\n",
        "  #soma = soma + 1\n",
        "  soma += 3\n",
        "  print('i = {}, soma = {}'. format(i,soma))\n",
        "print(soma)"
      ],
      "metadata": {
        "colab": {
          "base_uri": "https://localhost:8080/"
        },
        "id": "fBakUE0xzz5v",
        "outputId": "b159e09c-22bb-4b6d-aee6-4c50ab819e8b"
      },
      "execution_count": 23,
      "outputs": [
        {
          "output_type": "stream",
          "name": "stdout",
          "text": [
            "i = 1, soma = 4\n",
            "i = 2, soma = 7\n",
            "i = 3, soma = 10\n",
            "i = 4, soma = 13\n",
            "i = 5, soma = 16\n",
            "i = 6, soma = 19\n",
            "i = 7, soma = 22\n",
            "i = 8, soma = 25\n",
            "i = 9, soma = 28\n",
            "i = 10, soma = 31\n",
            "31\n"
          ]
        }
      ]
    },
    {
      "cell_type": "code",
      "source": [
        "mult = 2\n",
        "passo = range(1, 9+1)\n",
        "\n",
        "for i in passo:\n",
        "  #mult = mult * 2\n",
        "  mult *=2\n",
        "  print('i = {}, mult = {}'. format(i,mult))\n",
        "print()"
      ],
      "metadata": {
        "colab": {
          "base_uri": "https://localhost:8080/"
        },
        "id": "hwfH2_Nx0LpI",
        "outputId": "b3154ab0-4a60-4ee3-e1ba-ac4adfec3996"
      },
      "execution_count": 22,
      "outputs": [
        {
          "output_type": "stream",
          "name": "stdout",
          "text": [
            "i = 1, mult = 4\n",
            "i = 2, mult = 8\n",
            "i = 3, mult = 16\n",
            "i = 4, mult = 32\n",
            "i = 5, mult = 64\n",
            "i = 6, mult = 128\n",
            "i = 7, mult = 256\n",
            "i = 8, mult = 512\n",
            "i = 9, mult = 1024\n",
            "\n"
          ]
        }
      ]
    },
    {
      "cell_type": "markdown",
      "source": [
        "# **Exercício 1**\n",
        "1.Tire a média de 3 números digitados pelo usuário"
      ],
      "metadata": {
        "id": "ODrC0GKT17ve"
      }
    },
    {
      "cell_type": "code",
      "source": [
        "passo = range(1, 3+1)\n",
        "soma = 0\n",
        "\n",
        "for i in passo:\n",
        "  n= float(input('Digite o {}º número: '.format(i)))\n",
        "  soma +=n\n",
        "  print('i = {}, soma = {}'.format(i,soma))\n",
        "media= soma / i\n",
        "print('A média é de: {}'.format(media))"
      ],
      "metadata": {
        "colab": {
          "base_uri": "https://localhost:8080/"
        },
        "id": "cQqyYIvb04VD",
        "outputId": "b95cd418-0cb8-4033-e70e-acbe9e6fdaf1"
      },
      "execution_count": 24,
      "outputs": [
        {
          "output_type": "stream",
          "name": "stdout",
          "text": [
            "Digite o 1º número: 10.5\n",
            "i = 1, soma = 10.5\n",
            "Digite o 2º número: 20.5\n",
            "i = 2, soma = 31.0\n",
            "Digite o 3º número: 30\n",
            "i = 3, soma = 61.0\n",
            "A média é de: 20.333333333333332\n"
          ]
        }
      ]
    },
    {
      "cell_type": "markdown",
      "source": [
        "# **Exercício 2**\n",
        "\n",
        "1. Pergunte para o usuário quantos números ele quer tirar a média\n",
        "2. Tire a média"
      ],
      "metadata": {
        "id": "aIbNF48L2T0q"
      }
    },
    {
      "cell_type": "code",
      "source": [
        "qtd = int(input('Quantos números você quer tirar a média? '))\n",
        "passo = range(1, qtd +1)\n",
        "soma = 0\n",
        "\n",
        "for i in passo:\n",
        "  n = float(input('Digite o {}º número:'. format(i)))\n",
        "  soma += n\n",
        "media = soma / i\n",
        "print( 'A média deu: {} '. format(media))"
      ],
      "metadata": {
        "colab": {
          "base_uri": "https://localhost:8080/"
        },
        "id": "5QfzwGJq1s2E",
        "outputId": "d76f6e49-0946-4aeb-9d31-380439632328"
      },
      "execution_count": 31,
      "outputs": [
        {
          "output_type": "stream",
          "name": "stdout",
          "text": [
            "Quantos números você quer tirar a média? 3\n",
            "Digite o 1º número:10\n",
            "Digite o 2º número:20\n",
            "Digite o 3º número:30\n",
            "A média deu: 20.0 \n"
          ]
        }
      ]
    }
  ]
}